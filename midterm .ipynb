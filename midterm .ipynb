{
 "cells": [
  {
   "cell_type": "code",
   "execution_count": 2,
   "id": "52ba8cb4",
   "metadata": {},
   "outputs": [
    {
     "data": {
      "text/plain": [
       "<module 'pandas' from 'C:\\\\Users\\\\hp\\\\anaconda3\\\\Lib\\\\site-packages\\\\pandas\\\\__init__.py'>"
      ]
     },
     "execution_count": 2,
     "metadata": {},
     "output_type": "execute_result"
    }
   ],
   "source": [
    "import pandas as pd"
   ]
  },
  {
   "cell_type": "code",
   "execution_count": 55,
   "id": "dc9321ec",
   "metadata": {},
   "outputs": [],
   "source": [
    "df=pd.read_csv(\"Corona_unofficial-2.csv\")"
   ]
  },
  {
   "cell_type": "code",
   "execution_count": 56,
   "id": "f19aa6c8",
   "metadata": {},
   "outputs": [
    {
     "data": {
      "text/html": [
       "<div>\n",
       "<style scoped>\n",
       "    .dataframe tbody tr th:only-of-type {\n",
       "        vertical-align: middle;\n",
       "    }\n",
       "\n",
       "    .dataframe tbody tr th {\n",
       "        vertical-align: top;\n",
       "    }\n",
       "\n",
       "    .dataframe thead th {\n",
       "        text-align: right;\n",
       "    }\n",
       "</style>\n",
       "<table border=\"1\" class=\"dataframe\">\n",
       "  <thead>\n",
       "    <tr style=\"text-align: right;\">\n",
       "      <th></th>\n",
       "      <th>Unnamed: 0</th>\n",
       "      <th>case_in_country</th>\n",
       "      <th>reporting date</th>\n",
       "      <th>location</th>\n",
       "      <th>country</th>\n",
       "      <th>gender</th>\n",
       "      <th>age</th>\n",
       "      <th>hosp_visit_date</th>\n",
       "      <th>visiting Wuhan</th>\n",
       "      <th>from Wuhan</th>\n",
       "      <th>...</th>\n",
       "      <th>Chills</th>\n",
       "      <th>Body_Pain</th>\n",
       "      <th>difficut_to_breath</th>\n",
       "      <th>Running_nose</th>\n",
       "      <th>Cold</th>\n",
       "      <th>Abdomain_pain</th>\n",
       "      <th>Vomiting</th>\n",
       "      <th>Sore_throat</th>\n",
       "      <th>Malaise</th>\n",
       "      <th>death</th>\n",
       "    </tr>\n",
       "  </thead>\n",
       "  <tbody>\n",
       "    <tr>\n",
       "      <th>0</th>\n",
       "      <td>0</td>\n",
       "      <td>0</td>\n",
       "      <td>20-01-2020</td>\n",
       "      <td>Shenzhen, Guangdong</td>\n",
       "      <td>China</td>\n",
       "      <td>male</td>\n",
       "      <td>66</td>\n",
       "      <td>11-01-2020</td>\n",
       "      <td>1</td>\n",
       "      <td>0.0</td>\n",
       "      <td>...</td>\n",
       "      <td>0</td>\n",
       "      <td>1</td>\n",
       "      <td>0</td>\n",
       "      <td>0</td>\n",
       "      <td>1</td>\n",
       "      <td>0</td>\n",
       "      <td>1</td>\n",
       "      <td>0</td>\n",
       "      <td>1</td>\n",
       "      <td>0</td>\n",
       "    </tr>\n",
       "    <tr>\n",
       "      <th>1</th>\n",
       "      <td>1</td>\n",
       "      <td>0</td>\n",
       "      <td>20-01-2020</td>\n",
       "      <td>Shanghai</td>\n",
       "      <td>China</td>\n",
       "      <td>female</td>\n",
       "      <td>56</td>\n",
       "      <td>15-01-2020</td>\n",
       "      <td>0</td>\n",
       "      <td>1.0</td>\n",
       "      <td>...</td>\n",
       "      <td>1</td>\n",
       "      <td>0</td>\n",
       "      <td>0</td>\n",
       "      <td>1</td>\n",
       "      <td>0</td>\n",
       "      <td>0</td>\n",
       "      <td>1</td>\n",
       "      <td>1</td>\n",
       "      <td>1</td>\n",
       "      <td>0</td>\n",
       "    </tr>\n",
       "    <tr>\n",
       "      <th>2</th>\n",
       "      <td>2</td>\n",
       "      <td>0</td>\n",
       "      <td>21-01-2020</td>\n",
       "      <td>Zhejiang</td>\n",
       "      <td>China</td>\n",
       "      <td>male</td>\n",
       "      <td>46</td>\n",
       "      <td>17-01-2020</td>\n",
       "      <td>0</td>\n",
       "      <td>1.0</td>\n",
       "      <td>...</td>\n",
       "      <td>1</td>\n",
       "      <td>1</td>\n",
       "      <td>1</td>\n",
       "      <td>1</td>\n",
       "      <td>1</td>\n",
       "      <td>0</td>\n",
       "      <td>1</td>\n",
       "      <td>1</td>\n",
       "      <td>0</td>\n",
       "      <td>1</td>\n",
       "    </tr>\n",
       "  </tbody>\n",
       "</table>\n",
       "<p>3 rows × 22 columns</p>\n",
       "</div>"
      ],
      "text/plain": [
       "   Unnamed: 0  case_in_country reporting date             location country  \\\n",
       "0           0                0     20-01-2020  Shenzhen, Guangdong   China   \n",
       "1           1                0     20-01-2020             Shanghai   China   \n",
       "2           2                0     21-01-2020             Zhejiang   China   \n",
       "\n",
       "   gender  age hosp_visit_date  visiting Wuhan  from Wuhan  ...  Chills  \\\n",
       "0    male   66      11-01-2020               1         0.0  ...       0   \n",
       "1  female   56      15-01-2020               0         1.0  ...       1   \n",
       "2    male   46      17-01-2020               0         1.0  ...       1   \n",
       "\n",
       "   Body_Pain  difficut_to_breath  Running_nose  Cold  Abdomain_pain  Vomiting  \\\n",
       "0          1                   0             0     1              0         1   \n",
       "1          0                   0             1     0              0         1   \n",
       "2          1                   1             1     1              0         1   \n",
       "\n",
       "   Sore_throat  Malaise  death  \n",
       "0            0        1      0  \n",
       "1            1        1      0  \n",
       "2            1        0      1  \n",
       "\n",
       "[3 rows x 22 columns]"
      ]
     },
     "execution_count": 56,
     "metadata": {},
     "output_type": "execute_result"
    }
   ],
   "source": [
    "df.head(3)"
   ]
  },
  {
   "cell_type": "code",
   "execution_count": 65,
   "id": "7ca18bd7",
   "metadata": {},
   "outputs": [
    {
     "data": {
      "text/plain": [
       "Unnamed: 0            0\n",
       "case_in_country       0\n",
       "reporting date        0\n",
       "location              0\n",
       "country               0\n",
       "gender                0\n",
       "age                   0\n",
       "hosp_visit_date       0\n",
       "visiting Wuhan        0\n",
       "from Wuhan            0\n",
       "Feaver                0\n",
       "Cough                 0\n",
       "Chills                0\n",
       "Body_Pain             0\n",
       "difficut_to_breath    0\n",
       "Running_nose          0\n",
       "Cold                  0\n",
       "Abdomain_pain         0\n",
       "Vomiting              0\n",
       "Sore_throat           0\n",
       "Malaise               0\n",
       "death                 0\n",
       "dtype: int64"
      ]
     },
     "execution_count": 65,
     "metadata": {},
     "output_type": "execute_result"
    }
   ],
   "source": [
    "##What is the number of people (Male Gender) fom china, who died after visiting Wuhan state?\n",
    "male_gen = df[(df['gender']==\"male\") & (df['country']==\"China\") & ([\"visiting Wuhan\"]==1) & ([\"death\"]==1)].count()\n",
    "male_gen"
   ]
  },
  {
   "cell_type": "code",
   "execution_count": 67,
   "id": "508b57ec",
   "metadata": {},
   "outputs": [
    {
     "data": {
      "text/plain": [
       "22"
      ]
     },
     "execution_count": 67,
     "metadata": {},
     "output_type": "execute_result"
    }
   ],
   "source": [
    "numOfDead = len(male_gen)\n",
    "numOfDead"
   ]
  },
  {
   "cell_type": "code",
   "execution_count": 84,
   "id": "54078a97",
   "metadata": {},
   "outputs": [],
   "source": [
    "dead_rate = df[(df[\"country\"] !=\"China\") & (df[\"visiting Wuhan\"]==1) & df[\"death\"]==1]"
   ]
  },
  {
   "cell_type": "code",
   "execution_count": 85,
   "id": "078fa0eb",
   "metadata": {},
   "outputs": [
    {
     "data": {
      "text/plain": [
       "20"
      ]
     },
     "execution_count": 85,
     "metadata": {},
     "output_type": "execute_result"
    }
   ],
   "source": [
    "numeOfMale = len(dead_rate[dead_rate[\"gender\"]==\"male\"])\n",
    "numeOfMale"
   ]
  },
  {
   "cell_type": "code",
   "execution_count": 86,
   "id": "fcfb287c",
   "metadata": {},
   "outputs": [
    {
     "data": {
      "text/plain": [
       "16"
      ]
     },
     "execution_count": 86,
     "metadata": {},
     "output_type": "execute_result"
    }
   ],
   "source": [
    "numeOfFemale = len(dead_rate[dead_rate[\"gender\"]==\"female\"])\n",
    "numeOfFemale"
   ]
  },
  {
   "cell_type": "code",
   "execution_count": 120,
   "id": "647b1f20",
   "metadata": {},
   "outputs": [
    {
     "data": {
      "text/plain": [
       "22"
      ]
     },
     "execution_count": 120,
     "metadata": {},
     "output_type": "execute_result"
    }
   ],
   "source": [
    "##What is the average percentage of people from china, who died and their ages :\n",
    "\n",
    "##a) > 60 years old\n",
    "age_sixty = df[(df[\"country\"]==\"china\") & (df[\"age\"] > 60 ) &  (df[\"age\"] < 50 )& (df[\"age\"] <= 30)].mean()\n",
    "ave_sixty = len(age_sixty)\n",
    "ave_sixty\n"
   ]
  },
  {
   "cell_type": "code",
   "execution_count": 117,
   "id": "5e052831",
   "metadata": {},
   "outputs": [
    {
     "ename": "TypeError",
     "evalue": "object of type 'method' has no len()",
     "output_type": "error",
     "traceback": [
      "\u001b[1;31m---------------------------------------------------------------------------\u001b[0m",
      "\u001b[1;31mTypeError\u001b[0m                                 Traceback (most recent call last)",
      "Cell \u001b[1;32mIn[117], line 3\u001b[0m\n\u001b[0;32m      1\u001b[0m \u001b[38;5;66;03m##b) 50 < age<60\u001b[39;00m\n\u001b[0;32m      2\u001b[0m age_fifty \u001b[38;5;241m=\u001b[39m df[(df[\u001b[38;5;124m\"\u001b[39m\u001b[38;5;124mcountry\u001b[39m\u001b[38;5;124m\"\u001b[39m]\u001b[38;5;241m==\u001b[39m\u001b[38;5;124m\"\u001b[39m\u001b[38;5;124mchina\u001b[39m\u001b[38;5;124m\"\u001b[39m) \u001b[38;5;241m&\u001b[39m df[\u001b[38;5;124m\"\u001b[39m\u001b[38;5;124mage\u001b[39m\u001b[38;5;124m\"\u001b[39m] \u001b[38;5;241m<\u001b[39m\u001b[38;5;241m=\u001b[39m \u001b[38;5;241m50\u001b[39m]\u001b[38;5;241m.\u001b[39mmean\n\u001b[1;32m----> 3\u001b[0m ave_fiftyA \u001b[38;5;241m=\u001b[39m \u001b[38;5;28mlen\u001b[39m(age_fifty)\n\u001b[0;32m      4\u001b[0m ave_fiftyA\n",
      "\u001b[1;31mTypeError\u001b[0m: object of type 'method' has no len()"
     ]
    }
   ],
   "source": [
    "##b) 50 < age<60\n",
    "age_fifty = df[(df[\"country\"]==\"china\") & df[\"age\"] < 50].mean\n",
    "ave_fiftyA = len(age_fifty)\n",
    "ave_fiftyA"
   ]
  },
  {
   "cell_type": "code",
   "execution_count": 118,
   "id": "9d5b7aee",
   "metadata": {},
   "outputs": [
    {
     "ename": "TypeError",
     "evalue": "object of type 'method' has no len()",
     "output_type": "error",
     "traceback": [
      "\u001b[1;31m---------------------------------------------------------------------------\u001b[0m",
      "\u001b[1;31mTypeError\u001b[0m                                 Traceback (most recent call last)",
      "Cell \u001b[1;32mIn[118], line 3\u001b[0m\n\u001b[0;32m      1\u001b[0m \u001b[38;5;66;03m##c) 30< age<50\u001b[39;00m\n\u001b[0;32m      2\u001b[0m age_thirty \u001b[38;5;241m=\u001b[39m df[(df[\u001b[38;5;124m\"\u001b[39m\u001b[38;5;124mcountry\u001b[39m\u001b[38;5;124m\"\u001b[39m]\u001b[38;5;241m==\u001b[39m\u001b[38;5;124m\"\u001b[39m\u001b[38;5;124mchina\u001b[39m\u001b[38;5;124m\"\u001b[39m) \u001b[38;5;241m&\u001b[39m df[\u001b[38;5;124m\"\u001b[39m\u001b[38;5;124mage\u001b[39m\u001b[38;5;124m\"\u001b[39m] \u001b[38;5;241m<\u001b[39m\u001b[38;5;241m=\u001b[39m \u001b[38;5;241m30\u001b[39m]\u001b[38;5;241m.\u001b[39mmean\n\u001b[1;32m----> 3\u001b[0m ave_thirty \u001b[38;5;241m=\u001b[39m \u001b[38;5;28mlen\u001b[39m(age_thirty)\n\u001b[0;32m      4\u001b[0m ave_thirty\n",
      "\u001b[1;31mTypeError\u001b[0m: object of type 'method' has no len()"
     ]
    }
   ],
   "source": [
    "##c) 30< age<50\n",
    "age_thirty = df[(df[\"country\"]==\"china\") & df[\"age\"] <= 30].mean\n",
    "ave_thirty = len(age_thirty)\n",
    "ave_thirty"
   ]
  },
  {
   "cell_type": "code",
   "execution_count": 108,
   "id": "7c70feb3",
   "metadata": {},
   "outputs": [
    {
     "data": {
      "text/plain": [
       "101"
      ]
     },
     "execution_count": 108,
     "metadata": {},
     "output_type": "execute_result"
    }
   ],
   "source": [
    "##How many male and female from all countries EXCEPT china, didn't die when they have positive symptoms like cough and Fever?\n",
    "q4 = df[(df['country'] !=\"China\") & (df[\"death\"]==0) & (df[\"Cough\"]==1) & (df[\"Feaver\"]==1)]\n",
    "symp = len(q4)\n",
    "symp"
   ]
  },
  {
   "cell_type": "code",
   "execution_count": 111,
   "id": "21d74308",
   "metadata": {},
   "outputs": [
    {
     "data": {
      "text/plain": [
       "93"
      ]
     },
     "execution_count": 111,
     "metadata": {},
     "output_type": "execute_result"
    }
   ],
   "source": [
    "##List all the countries that their people died while they were staying at Wuhan State?\n",
    "\n",
    "all_dead_rate = df[(df[\"visiting Wuhan\"]==1) & df[\"death\"]==1]\n",
    "all_dead_rate_wuhan = len(all_dead_rate)\n",
    "all_dead_rate_wuhan\n"
   ]
  },
  {
   "cell_type": "code",
   "execution_count": 114,
   "id": "15a26f67",
   "metadata": {},
   "outputs": [
    {
     "data": {
      "text/plain": [
       "0"
      ]
     },
     "execution_count": 114,
     "metadata": {},
     "output_type": "execute_result"
    }
   ],
   "source": [
    "##How many female and male , who didn't die and they are from china and their age between 20 to 30 years old, and they have a fever?\n",
    "q5 = df[(df['country'] ==\"China\") & (df[\"death\"]==0) & (df[\"age\"]>=20) & (df[\"age\"] <= 20)& (df[\"Feaver\"]==1)&(df[\"Cold\"]==1)]\n",
    "\n",
    "q5An= len(q5)\n",
    "q5An\n"
   ]
  },
  {
   "cell_type": "code",
   "execution_count": null,
   "id": "9b7756a6",
   "metadata": {},
   "outputs": [],
   "source": []
  }
 ],
 "metadata": {
  "kernelspec": {
   "display_name": "Python 3 (ipykernel)",
   "language": "python",
   "name": "python3"
  },
  "language_info": {
   "codemirror_mode": {
    "name": "ipython",
    "version": 3
   },
   "file_extension": ".py",
   "mimetype": "text/x-python",
   "name": "python",
   "nbconvert_exporter": "python",
   "pygments_lexer": "ipython3",
   "version": "3.11.4"
  }
 },
 "nbformat": 4,
 "nbformat_minor": 5
}
